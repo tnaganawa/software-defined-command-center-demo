{
 "cells": [
  {
   "cell_type": "markdown",
   "metadata": {},
   "source": [
    "To discover node information, set container IPs and execute all the cells"
   ]
  },
  {
   "cell_type": "code",
   "execution_count": null,
   "metadata": {
    "collapsed": true
   },
   "outputs": [],
   "source": [
    "haproxy_ip='172.17.0.7'\n",
    "httpd_ip='172.17.0.9'"
   ]
  },
  {
   "cell_type": "code",
   "execution_count": null,
   "metadata": {
    "collapsed": true
   },
   "outputs": [],
   "source": [
    "from fabric.api import *\n",
    "env.user='root'\n",
    "env.password='rootpass'"
   ]
  },
  {
   "cell_type": "code",
   "execution_count": null,
   "metadata": {
    "collapsed": true
   },
   "outputs": [],
   "source": [
    "import os\n",
    "with open('/tmp/jupyter/haproxy.cfg') as f:\n",
    "    st=f.read()\n",
    "with open('/tmp/haproxy.cfg', 'w') as f:\n",
    "    f.write(st.replace('172.17.0.4', httpd_ip))"
   ]
  },
  {
   "cell_type": "code",
   "execution_count": null,
   "metadata": {},
   "outputs": [],
   "source": [
    "\n",
    "@hosts(haproxy_ip)\n",
    "def setup_haproxy():\n",
    "    run('yum -y -q install haproxy python ab')\n",
    "    put ('/tmp/haproxy.cfg', '/etc/haproxy')\n",
    "    #for port in ['1081', '1082', '1083']:\n",
    "    # run(\"echo 'listen main{0}\\n bind *:{0}\\n server server1 {1}:{0}\\n' >> /etc/haproxy/haproxy.cfg\".format(port, httpd_ip))\n",
    "    run(\"haproxy -f /etc/haproxy/haproxy.cfg\")\n",
    "execute(setup_haproxy)"
   ]
  },
  {
   "cell_type": "code",
   "execution_count": null,
   "metadata": {
    "scrolled": true
   },
   "outputs": [],
   "source": [
    "@hosts(httpd_ip)\n",
    "def setup_httpd():\n",
    "    run('yum -y -q install httpd python')\n",
    "    for port in ['1081', '1082', '1083']:\n",
    "     run(\"echo 'Listen {0}\\n<VirtualHost *:{0}>\\n CustomLog /tmp/{0}-access_log combined\\n</VirtualHost>' >> /etc/httpd/conf/httpd.conf\".format(port))\n",
    "    run(\"httpd\")\n",
    "execute(setup_httpd)"
   ]
  },
  {
   "cell_type": "code",
   "execution_count": null,
   "metadata": {},
   "outputs": [],
   "source": [
    "import requests\n",
    "for port in ['1081', '1082', '1083']:\n",
    " print (requests.get('http://{0}:{1}'.format(haproxy_ip,port)))"
   ]
  },
  {
   "cell_type": "code",
   "execution_count": null,
   "metadata": {},
   "outputs": [],
   "source": [
    "# get ansible facts\n",
    "import os\n",
    "print(os.popen('ANSIBLE_HOST_KEY_CHECKING=False ansible all -i {0} -e ansible_ssh_user=root -e ansible_ssh_pass=rootpass -m setup -t /tmp/ansible_facts'.format(haproxy_ip+','+httpd_ip)).read())"
   ]
  },
  {
   "cell_type": "code",
   "execution_count": null,
   "metadata": {},
   "outputs": [],
   "source": [
    "@hosts(haproxy_ip)\n",
    "def get_haproxy_cfg():\n",
    "    #get('/etc/haproxy/haproxy.cfg', '/tmp')\n",
    "    pass\n",
    "\n",
    "applconn_ip='127.0.0.1'\n",
    "@hosts(applconn_ip)\n",
    "def setup_applconn():\n",
    "    run('mkdir -p /tmp/ansible_facts')\n",
    "    run('mkdir -p /var/tmp/rsyncgit/{0}/etc/haproxy'.format(haproxy_ip))\n",
    "\n",
    "import sys\n",
    "with open('/tmp/local_settings.py', 'w') as f:\n",
    " f.write('list_import_def=[\"import_ansible_facts\", \"import_haproxy\", \"import_testlogic\"]')\n",
    "\n",
    "@hosts(applconn_ip)\n",
    "def upload_files_to_applconn():\n",
    "    put('/tmp/haproxy.cfg', '/var/tmp/rsyncgit/{0}/etc/haproxy'.format(haproxy_ip))\n",
    "    put('/tmp/ansible_facts/*', '/tmp/ansible_facts')\n",
    "    #run ('ls -R /var/tmp/rsyncgit')\n",
    "    #run(' > /var/tmp/applconn/local_settings.py')\n",
    "    put('/tmp/local_settings.py', '/var/tmp/applconn/local_settings.py')\n",
    "    run('cat /var/tmp/applconn/local_settings.py')\n",
    "    run('/var/tmp/applconn/batchregister.py')\n",
    "    \n",
    "execute(get_haproxy_cfg)\n",
    "execute(setup_applconn)\n",
    "execute(upload_files_to_applconn)\n"
   ]
  },
  {
   "cell_type": "markdown",
   "metadata": {
    "collapsed": true
   },
   "source": [
    "Please open this \n",
    "http://myip:5000\n",
    "\n",
    "After checking discovery is done and graph is successfully created, return back to the previous notebook"
   ]
  }
 ],
 "metadata": {
  "kernelspec": {
   "display_name": "Python 3",
   "language": "python",
   "name": "python3"
  },
  "language_info": {
   "codemirror_mode": {
    "name": "ipython",
    "version": 3
   },
   "file_extension": ".py",
   "mimetype": "text/x-python",
   "name": "python",
   "nbconvert_exporter": "python",
   "pygments_lexer": "ipython3",
   "version": "3.5.2"
  }
 },
 "nbformat": 4,
 "nbformat_minor": 2
}
