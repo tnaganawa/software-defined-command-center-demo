{
 "cells": [
  {
   "cell_type": "code",
   "execution_count": null,
   "metadata": {},
   "outputs": [],
   "source": [
    "import json\n",
    "import requests\n",
    "url='http://127.0.0.1:9093/api/v1/alerts'\n",
    "headers={\"Content-Type\": \"application/json\"}\n",
    "data=[{\"labels\":{\"alertname\":\"execjson-test-alert\"}}]\n",
    "requests.post(url, data=json.dumps(data), headers=headers)\n",
    "data=[{\"labels\":{\"alertname\":\"test-alert\"}}]\n",
    "requests.post(url, data=json.dumps(data), headers=headers)\n",
    "data=[{\"labels\":{\"alertname\":\"jupyter-upload-test\"}}]\n",
    "requests.post(url, data=json.dumps(data), headers=headers)"
   ]
  }
 ],
 "metadata": {
  "kernelspec": {
   "display_name": "Python 3",
   "language": "python",
   "name": "python3"
  },
  "language_info": {
   "codemirror_mode": {
    "name": "ipython",
    "version": 3
   },
   "file_extension": ".py",
   "mimetype": "text/x-python",
   "name": "python",
   "nbconvert_exporter": "python",
   "pygments_lexer": "ipython3",
   "version": "3.5.2"
  }
 },
 "nbformat": 4,
 "nbformat_minor": 2
}
